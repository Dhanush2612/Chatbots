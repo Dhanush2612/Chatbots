{
  "nbformat": 4,
  "nbformat_minor": 0,
  "metadata": {
    "colab": {
      "name": "Untitled7.ipynb",
      "provenance": [],
      "collapsed_sections": []
    },
    "kernelspec": {
      "name": "python3",
      "display_name": "Python 3"
    },
    "language_info": {
      "name": "python"
    }
  },
  "cells": [
    {
      "cell_type": "code",
      "metadata": {
        "colab": {
          "base_uri": "https://localhost:8080/"
        },
        "id": "RmVXB_vDNC1w",
        "outputId": "d1d47f40-1707-49b4-9e77-47aefa41e345"
      },
      "source": [
        "pip install chatterbot"
      ],
      "execution_count": 5,
      "outputs": [
        {
          "output_type": "stream",
          "text": [
            "Requirement already satisfied: chatterbot in /usr/local/lib/python3.7/dist-packages (1.0.8)\n",
            "Requirement already satisfied: sqlalchemy<1.4,>=1.3 in /usr/local/lib/python3.7/dist-packages (from chatterbot) (1.3.24)\n",
            "Requirement already satisfied: python-dateutil<2.9,>=2.8 in /usr/local/lib/python3.7/dist-packages (from chatterbot) (2.8.1)\n",
            "Requirement already satisfied: pytz in /usr/local/lib/python3.7/dist-packages (from chatterbot) (2018.9)\n",
            "Requirement already satisfied: mathparse<0.2,>=0.1 in /usr/local/lib/python3.7/dist-packages (from chatterbot) (0.1.2)\n",
            "Requirement already satisfied: six>=1.5 in /usr/local/lib/python3.7/dist-packages (from python-dateutil<2.9,>=2.8->chatterbot) (1.15.0)\n"
          ],
          "name": "stdout"
        }
      ]
    },
    {
      "cell_type": "code",
      "metadata": {
        "id": "CT81h8GDPSa3"
      },
      "source": [
        "from chatterbot import ChatBot\n",
        "\n",
        "# naming the ChatBot calculator\n",
        "# using mathematical evaluation logic\n",
        "# the calculator AI will not learn with the user input\n",
        "Bot = ChatBot(name = 'Calculator',\n",
        "                read_only = True,                  \n",
        "                logic_adapters = [\"chatterbot.logic.MathematicalEvaluation\"],                 \n",
        "                storage_adapter = \"chatterbot.storage.SQLStorageAdapter\")\n",
        "    \n",
        "\n",
        "# clear the screen and start the calculator\n",
        "print('\\033c')\n",
        "print(\"Hello, I am a calculator. How may I help you?\")\n",
        "while (True):\n",
        "    # take the input from the user\n",
        "    user_input = input(\"me: \")\n",
        "    \n",
        "    # check if the user has typed quit to exit the prgram   \n",
        "    if user_input.lower() == 'quit':\n",
        "        print(\"Exiting\")\n",
        "        break\n",
        "\n",
        "    # otherwise, evaluate the user input\n",
        "    # print invalid input if the AI is unable to comprehend the input\n",
        "    try:\n",
        "        response = Bot.get_response(user_input)\n",
        "        print(\"Calculator:\", response)\n",
        "    except:\n",
        "        print(\"Calculator: Please enter valid input.\")"
      ],
      "execution_count": null,
      "outputs": []
    }
  ]
}